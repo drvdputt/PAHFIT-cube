{
 "cells": [
  {
   "cell_type": "markdown",
   "id": "6642a436-7362-4281-a515-e2b82abaa45c",
   "metadata": {},
   "source": [
    "# Trim model to wavelength range\n",
    "\n",
    "The goal here is to start from a list of features, and end up with a model for a single observed spectral segment. We need models that only include the features relevant for the right wavelengt range. Later, this will be used to help constructing the observation models (= physical features blurred by instrumental effects). This is crucial for the joint fitting approach we are developing.\n",
    "\n",
    "In the current state, we would need a separate science pack per spectral segment to be able to fit individual ones. This means 12 for MIRI.  Instead of creating 12 different science packs, I am going to write a function which takes the existing science pack, and picks out the features within the relevant wavelength range."
   ]
  },
  {
   "cell_type": "markdown",
   "id": "1992e939-dbc0-4baf-b43d-33f22e4d1a7a",
   "metadata": {},
   "source": [
    "## usage"
   ]
  },
  {
   "cell_type": "code",
   "execution_count": null,
   "id": "16157632-99b6-4fd2-af4c-05d830c9aff5",
   "metadata": {},
   "outputs": [],
   "source": [
    "%load_ext autoreload\n",
    "%autoreload 2\n",
    "from specutils import Spectrum1D\n",
    "from astropy import units as u\n",
    "from make_trimmed_model import make_trimmed_model\n",
    "from matplotlib import pyplot as plt"
   ]
  },
  {
   "cell_type": "code",
   "execution_count": null,
   "id": "74f3eb65-acbb-4e5d-86fd-a85b560eb7f5",
   "metadata": {},
   "outputs": [],
   "source": [
    "spec = Spectrum1D.read('../../data-reduction/ifu-miri/stage3/BandCube_ch1-short_x1d.fits')"
   ]
  },
  {
   "cell_type": "code",
   "execution_count": null,
   "id": "8d99f97b-f9bb-4dad-b0ff-9f1bebe321c1",
   "metadata": {},
   "outputs": [],
   "source": [
    "plt.plot(spec.spectral_axis, spec.flux)"
   ]
  },
  {
   "cell_type": "code",
   "execution_count": null,
   "id": "b4ce66ad-7d97-4fba-814b-f7758d5746a3",
   "metadata": {},
   "outputs": [],
   "source": [
    "obsdata = {\"x\": spec.spectral_axis.to(u.micron), \"y\": spec.flux.to(u.MJy/u.sr), \"unc\": spec.flux * 0.1}\n"
   ]
  },
  {
   "cell_type": "code",
   "execution_count": null,
   "id": "61600909-32bf-4688-b64a-1579bb085aea",
   "metadata": {},
   "outputs": [],
   "source": [
    "model = make_trimmed_model('minimal.ipac', obsdata)\n",
    "model.model"
   ]
  }
 ],
 "metadata": {
  "kernelspec": {
   "display_name": "Python 3 (ipykernel)",
   "language": "python",
   "name": "python3"
  },
  "language_info": {
   "codemirror_mode": {
    "name": "ipython",
    "version": 3
   },
   "file_extension": ".py",
   "mimetype": "text/x-python",
   "name": "python",
   "nbconvert_exporter": "python",
   "pygments_lexer": "ipython3",
   "version": "3.9.6"
  }
 },
 "nbformat": 4,
 "nbformat_minor": 5
}
