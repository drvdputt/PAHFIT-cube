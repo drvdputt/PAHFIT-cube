{
 "cells": [
  {
   "cell_type": "markdown",
   "id": "ef700b34-e6bf-4266-8e3d-610198a72bad",
   "metadata": {},
   "source": [
    "# Interactive use of PAHFIT and cube fitting\n",
    "\n",
    "Main goal: extract 1D spectrum from cube, then run PAHFIT on it so see how well it works."
   ]
  },
  {
   "cell_type": "code",
   "execution_count": null,
   "id": "45cabe1b-955e-423e-86b6-5fa4aed4085a",
   "metadata": {},
   "outputs": [],
   "source": [
    "%matplotlib inline\n",
    "from specutils import Spectrum1D\n",
    "from jdaviz import Cubeviz\n",
    "from matplotlib import pyplot as plt\n",
    "from astropy import units as u\n",
    "\n",
    "def plot_spectrum1d(spec1d, ax=None, **kwargs):\n",
    "    if ax is None:\n",
    "        f, (ax1) = plt.subplots(1, 1, figsize=(15, 5))\n",
    "    else:\n",
    "        ax1 = ax\n",
    "    ax1.set_xlabel(\"Observed Wavelength (microns)\")  \n",
    "    ax1.set_ylabel(f\"flux ({spec1d.flux.unit})\")\n",
    "    ax1.plot(spec1d.spectral_axis.to(u.micron).value, spec1d.flux.value, **kwargs)\n",
    "    ax1.legend()\n",
    "    return ax1"
   ]
  },
  {
   "cell_type": "code",
   "execution_count": null,
   "id": "a6cc38e7-1dc9-4025-ae5b-67c3ea5462e8",
   "metadata": {
    "slideshow": {
     "slide_type": "fragment"
    }
   },
   "outputs": [],
   "source": [
    "# MRS cube\n",
    "filename = \"stage3-boris/BandCube_ch1-long_s3d.fits\""
   ]
  },
  {
   "cell_type": "code",
   "execution_count": null,
   "id": "28ffce58-379c-4fb4-a08a-29f0d362f256",
   "metadata": {},
   "outputs": [],
   "source": [
    "# show the cube\n",
    "cubeviz = Cubeviz()\n",
    "cubeviz.app.load_data(filename)\n",
    "cubeviz.app"
   ]
  },
  {
   "cell_type": "markdown",
   "id": "c737aa17-e4d4-441c-9734-c3ef4793c5b0",
   "metadata": {},
   "source": [
    "## Extract 1D spectrum\n",
    "\n",
    "Spectrum1D objects can be extracted from CubeViz\n",
    "\n",
    "If a region is selected, and a collapsed spectrum was calculated, the result can be extracted from the spec-viewer. See https://jdaviz.readthedocs.io/en/latest/notebook/export_data.html?highlight=extract#export-spectral-regions\n",
    "\n",
    "Or, you can work with the coordinates of the selected region (which can be found as shown below), and use other tools on the data directly."
   ]
  },
  {
   "cell_type": "code",
   "execution_count": null,
   "id": "b3ffd337-e317-4de8-a517-4753507aed6c",
   "metadata": {},
   "outputs": [],
   "source": [
    "regions = cubeviz.app.get_subsets_from_viewer('flux-viewer')\n",
    "region1_exists = 'region 1' in regions\n",
    "if region1_exists:\n",
    "    x0, y0 = region1.center.x, region1.center.y\n",
    "    r_pix = region1.radius"
   ]
  },
  {
   "cell_type": "markdown",
   "id": "10db2ad4-6caf-4f74-9a5b-949d6df8bab1",
   "metadata": {},
   "source": [
    "For the PAHFIT demonstration below, we load in the cube using Spectrum1D (works out of the box with JWST), and take a random spaxel."
   ]
  },
  {
   "cell_type": "code",
   "execution_count": null,
   "id": "81053633-678d-4df1-9a6d-d084c870ee3f",
   "metadata": {
    "tags": []
   },
   "outputs": [],
   "source": [
    "spec1d_cube = Spectrum1D.read(filename)\n",
    "ny, nx, nw = spec1d_cube.shape\n",
    "# take central pixel\n",
    "spectrum = spec1d_cube[ny // 2, nx // 2]\n",
    "plot_spectrum1d(spectrum)"
   ]
  },
  {
   "cell_type": "markdown",
   "id": "d3ac755d-6908-4ff0-a0ea-fe2580a3dacd",
   "metadata": {
    "tags": []
   },
   "source": [
    "## Run PAHFIT on Spectrum1D object\n",
    "\n",
    "By importing PAHFIT, we can use one of the utility functions to load the science pack and construct the corresponding model. \n",
    "\n",
    "The goal of this part is to show that PAHFIT can be used interactively, starting from a Spectrum1D object. \n",
    "\n",
    "Doing this allows us to quickly judge how good the chosen science pack is working. This is useful for PAHFIT development, e.g. exploring for which regions of the PDR the science pack is working."
   ]
  },
  {
   "cell_type": "code",
   "execution_count": null,
   "id": "62893a81-a708-41a0-ae95-449dfd815cba",
   "metadata": {},
   "outputs": [],
   "source": [
    "from pahfit.helpers import initialize_trimmed_model, fit_spectrum\n",
    "from pahfit.base import PAHFITBase\n",
    "\n",
    "def fit(spec1d):\n",
    "    # convert Spectrum1D object to PAHFIT data format\n",
    "    obsdata = {\"x\": spec1d.spectral_axis.to(u.micron), \"y\": spec1d.flux, \"unc\": spec1d.uncertainty.quantity}\n",
    "    print(obsdata)\n",
    "    \n",
    "    # make the model\n",
    "    model_base = initialize_trimmed_model('scipack_ExGal_SpitzerIRSSLLL.ipac', obsdata)\n",
    "    \n",
    "    # run the fit\n",
    "    model_result = fit_spectrum(obsdata, model_base, maxiter=1000)\n",
    "    print(model_result)\n",
    "    \n",
    "    # plot separate components\n",
    "    fig, ax = plt.subplots(2, 1, figsize=(10,10))\n",
    "    PAHFITBase.plot(ax, obsdata['x'], obsdata['y'], obsdata['unc'], model_result)"
   ]
  },
  {
   "cell_type": "code",
   "execution_count": null,
   "id": "0c921288-0322-4d97-a46e-f6694c1f7442",
   "metadata": {},
   "outputs": [],
   "source": [
    "fit(spectrum)"
   ]
  },
  {
   "cell_type": "code",
   "execution_count": null,
   "id": "427884f8-e3f1-445a-9955-3db5051a9772",
   "metadata": {},
   "outputs": [],
   "source": [
    "plt.show()"
   ]
  }
 ],
 "metadata": {
  "kernelspec": {
   "display_name": "Python 3 (ipykernel)",
   "language": "python",
   "name": "python3"
  },
  "language_info": {
   "codemirror_mode": {
    "name": "ipython",
    "version": 3
   },
   "file_extension": ".py",
   "mimetype": "text/x-python",
   "name": "python",
   "nbconvert_exporter": "python",
   "pygments_lexer": "ipython3",
   "version": "3.9.6"
  }
 },
 "nbformat": 4,
 "nbformat_minor": 5
}
