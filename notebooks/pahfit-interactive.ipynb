{
 "cells": [
  {
   "cell_type": "markdown",
   "id": "ef700b34-e6bf-4266-8e3d-610198a72bad",
   "metadata": {},
   "source": [
    "# Interactive use of PAHFIT and cube fitting\n",
    "\n",
    "During the preparation for the JDAT hack session, I started preparing some notebook cells which show how to run PAHFIT interactively, using simulated JWST data. My goal is to copy those cells over, and then figure out if I can make it work for cube fitting. Finally, I will adapt some of the visualization routines from the cube-fitting notebook as a tool for exploring the PAHFIT results."
   ]
  },
  {
   "cell_type": "code",
   "execution_count": null,
   "id": "45cabe1b-955e-423e-86b6-5fa4aed4085a",
   "metadata": {},
   "outputs": [],
   "source": [
    "%matplotlib inline\n",
    "from specutils import Spectrum1D\n",
    "from astropy.nddata import StdDevUncertainty\n",
    "from astropy.io import fits\n",
    "from astropy import wcs\n",
    "from jdaviz import Cubeviz\n",
    "from photutils.aperture import (CircularAperture, aperture_photometry)\n",
    "from matplotlib import pyplot as plt\n",
    "import numpy as np\n",
    "import pahfit.helpers\n",
    "from astropy import units as u\n",
    "\n",
    "def plot_spectrum1d(spec1d, ax=None, **kwargs):\n",
    "    if ax is None:\n",
    "        f, (ax1) = plt.subplots(1, 1, figsize=(15, 5))\n",
    "    else:\n",
    "        ax1 = ax\n",
    "    ax1.set_xlabel(\"Observed Wavelength (microns)\")  \n",
    "    ax1.set_ylabel(\"Flux Density\")\n",
    "    ax1.plot(spec1d.spectral_axis.to(u.micron).value, spec1d.flux.value, **kwargs)\n",
    "    ax1.legend()\n",
    "    return ax1"
   ]
  },
  {
   "cell_type": "code",
   "execution_count": null,
   "id": "a6cc38e7-1dc9-4025-ae5b-67c3ea5462e8",
   "metadata": {
    "slideshow": {
     "slide_type": "fragment"
    }
   },
   "outputs": [],
   "source": [
    "# MRS science data cube\n",
    "filename = \"./BandCube_ch2-short_s3d.fits\"\n",
    "\n",
    "# Open and inspect the file and WCS\n",
    "# Load with astropy.fits.open\n",
    "with fits.open(filename, memmap=False) as hdulist:\n",
    "    sci = hdulist['SCI'].data\n",
    "    err = hdulist['ERR'].data\n",
    "    w = wcs.WCS(hdulist[1].header)\n",
    "    hdr = hdulist[1].header\n",
    "    #hdulist.info()\n",
    "    #print(w)\n",
    "    \n",
    "# Load with Spectrum1D    \n",
    "spec1d = Spectrum1D.read(filename, format='JWST s3d')\n",
    "#spec1d.flux[:, :, 10].shape\n",
    "#spec1d.wcs"
   ]
  },
  {
   "cell_type": "code",
   "execution_count": null,
   "id": "1e38c37b-3ae9-4b3c-a88e-246b5e013548",
   "metadata": {},
   "outputs": [],
   "source": [
    "cubeviz = Cubeviz()"
   ]
  },
  {
   "cell_type": "code",
   "execution_count": null,
   "id": "bbc5607f-0de2-48ad-aaa3-54217d3f4f78",
   "metadata": {
    "scrolled": true,
    "tags": []
   },
   "outputs": [],
   "source": [
    "# Data from local directory\n",
    "cubeviz.app.load_data(filename)"
   ]
  },
  {
   "cell_type": "code",
   "execution_count": null,
   "id": "a924e81b-24bb-4b29-a47d-127c15a07c48",
   "metadata": {},
   "outputs": [],
   "source": [
    "cubeviz.app"
   ]
  },
  {
   "cell_type": "markdown",
   "id": "2931548f-ac76-4213-b291-e756f145b166",
   "metadata": {
    "tags": []
   },
   "source": [
    "## 1D spectrum\n",
    "I made a minimal PAHFIT science pack, that goes with one of the MIRI cubes we used for the hack week. \n",
    "\n",
    "By importing PAHFIT, we can use one of the utility functions to load the science pack and construct the corresponding model. The goal of this part is to show that PAHFIT can be used interactively, allowing us to quickly judge how good the chosen science pack is working. This is useful for PAHFIT development, e.g. exploring for which regions of the PDR the science pack is working."
   ]
  },
  {
   "cell_type": "code",
   "execution_count": null,
   "id": "dd1ba0af-1029-458c-a3a3-2dc50cd04d51",
   "metadata": {},
   "outputs": [],
   "source": [
    "# CircularAperture uses xy pixels\n",
    "cubeviz.app.get_viewer_reference_names()"
   ]
  },
  {
   "cell_type": "code",
   "execution_count": null,
   "id": "f3d9f84b-699e-41e5-816e-169bbb5d8154",
   "metadata": {},
   "outputs": [],
   "source": [
    "spec1d.wavelength"
   ]
  },
  {
   "cell_type": "code",
   "execution_count": null,
   "id": "8efff183-6f7b-48ad-8b86-c3ca99f8c2f5",
   "metadata": {},
   "outputs": [],
   "source": [
    "regions = cubeviz.app.get_subsets_from_viewer('flux-viewer')\n",
    "region1_exists = 'region 1' in regions\n",
    "if region1_exists:\n",
    "    x0, y0 = region1.center.x, region1.center.y\n",
    "    center_xy = [x0, y0]   \n",
    "    r_pix = region1.radius\n",
    "else:\n",
    "    print(\"Setting default circular aperture in the center of the map with a radius of 10 pixels\")\n",
    "    # RC: we could define our own region(s) programmatically based on this instead of clicking\n",
    "    nx, ny = cubeviz.app.data_collection[0].shape[1:]\n",
    "    x0, y0 = nx/2, ny/2\n",
    "    center_xy = [x0, y0]   \n",
    "    r_pix = 6\n",
    "    \n",
    "aperture = CircularAperture(center_xy, r=r_pix)\n",
    "print(aperture)\n",
    "\n",
    "spec1d_len = len(spec1d.wavelength)\n",
    "circle_sum = []\n",
    "circle_sum_unc = []\n",
    "for idx in range(spec1d_len):\n",
    "    slice2d = spec1d.data[:, :, idx]\n",
    "    phot_table = aperture_photometry(slice2d, aperture, wcs=w.celestial, method='exact')\n",
    "    circle_sum.append(phot_table['aperture_sum'][0])\n",
    "    \n",
    "    slice2d_unc = spec1d.uncertainty.array[:, :, idx]\n",
    "    phot_table = aperture_photometry(slice2d_unc, aperture, wcs=w.celestial, method='exact')\n",
    "    circle_sum_unc.append(np.sqrt(phot_table['aperture_sum'][0]))\n",
    "\n",
    "# put result in Spectrum1D format\n",
    "wav = spec1d.wavelength.to(u.micron)\n",
    "unc = StdDevUncertainty(np.array(circle_sum_unc))\n",
    "\n",
    "circle_spec = Spectrum1D(flux = np.array(circle_sum) * spec1d.flux.unit, spectral_axis=wav, uncertainty=unc)\n",
    "plot_spectrum1d(circle_spec, label='Circle at (x,y,r)=(%.2f,%.2f,%.2f)'% (x0, y0, r_pix))\n",
    "circle_spec.wavelength"
   ]
  },
  {
   "cell_type": "markdown",
   "id": "d3ac755d-6908-4ff0-a0ea-fe2580a3dacd",
   "metadata": {},
   "source": [
    "## Get model from PAHFIT"
   ]
  },
  {
   "cell_type": "code",
   "execution_count": null,
   "id": "2983aff2-fbe1-4fcf-9515-7cfe0e1dc553",
   "metadata": {},
   "outputs": [],
   "source": [
    "# Define observational data. Fake the uncertainty for now \n",
    "# (getting it from the JWST cube would be a good thing to ask about)\n",
    "obsdata = {\"x\": circle_spec.spectral_axis.to(u.micron), \"y\": circle_spec.flux, \"unc\": circle_spec.flux * 0.1}\n",
    "# Load the simplified science pack\n",
    "model_base = pahfit.helpers.initialize_model('minimal.ipac', obsdata)\n",
    "print(model_base.model)"
   ]
  },
  {
   "cell_type": "code",
   "execution_count": null,
   "id": "374bf6c6-ed91-4fba-a0ce-6cd3c1cb67a3",
   "metadata": {},
   "outputs": [],
   "source": [
    "# Do the fit\n",
    "model_result = pahfit.helpers.fit_spectrum(obsdata, model_base, maxiter=1000)\n",
    "print(model_result)"
   ]
  },
  {
   "cell_type": "code",
   "execution_count": null,
   "id": "c9e70c90-25a4-431d-bc5f-d2f268c7c70b",
   "metadata": {},
   "outputs": [],
   "source": [
    "ax = plot_spectrum1d(circle_spec)\n",
    "x = circle_spec.spectral_axis.value\n",
    "y = model_result(x)\n",
    "ax.semilogy(x, y)"
   ]
  },
  {
   "cell_type": "code",
   "execution_count": null,
   "id": "c0704074-0289-4351-9bfa-341fe2f72b7e",
   "metadata": {},
   "outputs": [],
   "source": [
    "# plot separate components\n",
    "fig, ax = plt.subplots(2, 1, figsize=(10,10))\n",
    "\n",
    "model_base.plot(ax, obsdata['x'], obsdata['y'], obsdata['unc'], model_result)"
   ]
  },
  {
   "cell_type": "markdown",
   "id": "74fd22ba-1e56-4823-a69e-375b356a1339",
   "metadata": {
    "tags": []
   },
   "source": [
    "### Goal: visualize results of PAHFIT-cube\n",
    "For a 1D spectrum, running the fit an visualizing the result is straightforward, as shown above. For the full IFU cube, we still have to figure things out, perhaps taking inspiration from the code that was taken from cube_fitting.\n",
    "\n",
    "To run PAHFIT on the entire cube, we can copy and adapt some code from https://github.com/drvdputt/PAHFIT-cube. A good goal for this notebook would be to take inspiration from the cube_fitting notebook, and come up with some interesting  visualizations for the full-cube PAHFIT results."
   ]
  },
  {
   "cell_type": "code",
   "execution_count": null,
   "id": "eef381af-05f6-46af-a2f3-3b3b0bcd8fcc",
   "metadata": {},
   "outputs": [],
   "source": []
  }
 ],
 "metadata": {
  "kernelspec": {
   "display_name": "Python 3 (ipykernel)",
   "language": "python",
   "name": "python3"
  },
  "language_info": {
   "codemirror_mode": {
    "name": "ipython",
    "version": 3
   },
   "file_extension": ".py",
   "mimetype": "text/x-python",
   "name": "python",
   "nbconvert_exporter": "python",
   "pygments_lexer": "ipython3",
   "version": "3.9.6"
  }
 },
 "nbformat": 4,
 "nbformat_minor": 5
}
