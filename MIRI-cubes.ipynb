{
 "cells": [
  {
   "cell_type": "markdown",
   "id": "0881ced4-432c-45a2-83f2-85c7022e4cec",
   "metadata": {},
   "source": [
    "# Exploring MIRI cubes"
   ]
  },
  {
   "cell_type": "code",
   "execution_count": null,
   "id": "1cb0e2ff-bcb1-4246-a3e0-cbdcc8bf775f",
   "metadata": {},
   "outputs": [],
   "source": [
    "from jwst import datamodels\n",
    "import matplotlib.pyplot as plt\n",
    "import reproject"
   ]
  },
  {
   "cell_type": "code",
   "execution_count": null,
   "id": "8b00ac94-0007-45b0-a6fe-ee95438c2453",
   "metadata": {},
   "outputs": [],
   "source": [
    "d = datamodels.IFUCubeModel(\"/Users/dvandeputte/Projects/PDR ERS/simulated-data-stsci/MRS2/stage3/Level3_ch1-long_s3d.fits\")\n",
    "d"
   ]
  },
  {
   "cell_type": "code",
   "execution_count": null,
   "id": "8df99d1b-3e63-4b1d-85cc-651abe6300e5",
   "metadata": {
    "scrolled": true,
    "tags": []
   },
   "outputs": [],
   "source": [
    "d.info(max_rows=None)"
   ]
  },
  {
   "cell_type": "code",
   "execution_count": null,
   "id": "cf4ff498-d340-40be-9a30-3b5f270b985a",
   "metadata": {},
   "outputs": [],
   "source": [
    "d.meta.instrument.instance"
   ]
  },
  {
   "cell_type": "code",
   "execution_count": null,
   "id": "f6b7e63c-5a66-405d-aa91-8dbb8280b81e",
   "metadata": {},
   "outputs": [],
   "source": [
    "d.shape"
   ]
  },
  {
   "cell_type": "markdown",
   "id": "8e080142-3e3e-45a3-bd44-4938eb66b945",
   "metadata": {},
   "source": [
    "## Examine wcs and wavelengths"
   ]
  },
  {
   "cell_type": "code",
   "execution_count": null,
   "id": "3404ef90-0cb8-4502-a13d-1c8c0f4c3353",
   "metadata": {},
   "outputs": [],
   "source": [
    "type(d.wcs)\n",
    "d.wcs"
   ]
  },
  {
   "cell_type": "code",
   "execution_count": null,
   "id": "27f31542-3872-4cf5-8ef0-fe2475ffc04d",
   "metadata": {},
   "outputs": [],
   "source": [
    "d.wcs.pixel_to_world(10, 10, 10)"
   ]
  },
  {
   "cell_type": "code",
   "execution_count": null,
   "id": "5a7bdedd-963f-48d1-9563-1931685280fc",
   "metadata": {},
   "outputs": [],
   "source": [
    "wavs = d.wcs.pixel_to_world(10, 20, range(0, d.shape[0]))\n",
    "wavs"
   ]
  },
  {
   "cell_type": "code",
   "execution_count": null,
   "id": "8093f4ae-8f48-4414-a309-a8a49b302347",
   "metadata": {},
   "outputs": [],
   "source": [
    "d.wavetable"
   ]
  },
  {
   "cell_type": "markdown",
   "id": "4490fd8e-0c66-49e3-a80a-1a20f179c051",
   "metadata": {},
   "source": [
    "wavetable seems to be empty, but we can get a list of wavelengths this way"
   ]
  },
  {
   "cell_type": "code",
   "execution_count": null,
   "id": "11ede978-646a-48da-9f32-742e37c257ae",
   "metadata": {},
   "outputs": [],
   "source": [
    "d.wcs.spectral.pixel_to_world(range(0, d.shape[0]))"
   ]
  },
  {
   "cell_type": "code",
   "execution_count": null,
   "id": "a7bdcdd4-3f4f-4fe9-93a1-e2a5981a76c5",
   "metadata": {},
   "outputs": [],
   "source": [
    "wavs[1].value"
   ]
  },
  {
   "cell_type": "markdown",
   "id": "6b8062bd-61db-4a55-9c1a-44e69863466a",
   "metadata": {},
   "source": [
    "## plotting slices"
   ]
  },
  {
   "cell_type": "code",
   "execution_count": null,
   "id": "0ea659ee-1ec8-4b9c-97c8-3b06c0d7809b",
   "metadata": {},
   "outputs": [],
   "source": [
    "ax = plt.subplot(projection=d.wcs, slices=('x', 'y', 10))\n",
    "ax.imshow(d.data[10])\n"
   ]
  },
  {
   "cell_type": "markdown",
   "id": "c4440f8f-d46d-48ff-bff6-eb801bf3a087",
   "metadata": {},
   "source": [
    "## workspace for making plots\n",
    "Avoid having to run the reprojection over and over by using this code, and then developing some plots below."
   ]
  },
  {
   "cell_type": "code",
   "execution_count": null,
   "id": "b6d9f671-36b5-497b-b736-2bc07f415514",
   "metadata": {},
   "outputs": [],
   "source": [
    "from merge_miri_cubes import get_miri_cubes\n",
    "from resample_and_merge_spitzer_cubes import reproject_cube_data\n",
    "import wcshacks"
   ]
  },
  {
   "cell_type": "code",
   "execution_count": null,
   "id": "31b3364f-6a04-457b-80c0-a712ea749264",
   "metadata": {},
   "outputs": [],
   "source": [
    "nx, ny = 5, 5\n",
    "newwcs = wcshacks.make_ra_dec_wcs(0, 0, 1 / 3600, nx, ny)\n",
    "cubes = get_miri_cubes(\"../simulated-data-stsci/MRS2/stage3/\", \"Level3\")"
   ]
  },
  {
   "cell_type": "code",
   "execution_count": null,
   "id": "03789a5c-f42b-4138-840b-b9953621a8d6",
   "metadata": {},
   "outputs": [],
   "source": [
    "rpj_data = [\n",
    "        wcshacks.reproject_cube_data(c.data, c.wcs.sub((1, 2)), newwcs, ny, nx)\n",
    "        for c in cubes\n",
    "    ]"
   ]
  },
  {
   "cell_type": "code",
   "execution_count": null,
   "id": "7ac679d5-0b76-4dc7-9dfc-dc72426432dc",
   "metadata": {},
   "outputs": [],
   "source": [
    "titles = [\"ch\"\n",
    "        + cube_model.meta.instrument.channel\n",
    "        + \" \"\n",
    "        + cube_model.meta.instrument.band\n",
    "        for cube_model in cubes\n",
    "]\n",
    "titles"
   ]
  },
  {
   "cell_type": "code",
   "execution_count": null,
   "id": "8ce72ad4-07dc-4c2e-8135-6b19ea590f15",
   "metadata": {},
   "outputs": [],
   "source": [
    "def plot12cubes(cbs, titles):\n",
    "    fig, axs = plt.subplots(4,3)\n",
    "    for ax, dat, title in zip(axs.flatten(), cbs, titles):\n",
    "        ax.imshow(dat[len(dat) // 2])\n",
    "        ax.set_title(title)\n",
    "    fig.set_size_inches(6,8)\n",
    "    fig.tight_layout()\n",
    "    return fig, axs"
   ]
  },
  {
   "cell_type": "code",
   "execution_count": null,
   "id": "7a91ca5b-e6d8-4680-8d5a-9089cedd88c8",
   "metadata": {},
   "outputs": [],
   "source": [
    "fig, axs = plot12cubes([c.data for c in cubes], titles)\n",
    "fig.savefig('miri_cubes.pdf')"
   ]
  },
  {
   "cell_type": "code",
   "execution_count": null,
   "id": "802920c7-32ed-4c9c-a82f-4598c53565ee",
   "metadata": {},
   "outputs": [],
   "source": [
    "fig, axs = plot12cubes(rpj_data, titles)\n",
    "fig.savefig('miri_cubes_rpj.pdf')"
   ]
  },
  {
   "cell_type": "code",
   "execution_count": null,
   "id": "938f8c88-349b-444a-a003-6d143b1386c8",
   "metadata": {},
   "outputs": [],
   "source": []
  }
 ],
 "metadata": {
  "kernelspec": {
   "display_name": "Python 3 (ipykernel)",
   "language": "python",
   "name": "python3"
  },
  "language_info": {
   "codemirror_mode": {
    "name": "ipython",
    "version": 3
   },
   "file_extension": ".py",
   "mimetype": "text/x-python",
   "name": "python",
   "nbconvert_exporter": "python",
   "pygments_lexer": "ipython3",
   "version": "3.9.6"
  }
 },
 "nbformat": 4,
 "nbformat_minor": 5
}
